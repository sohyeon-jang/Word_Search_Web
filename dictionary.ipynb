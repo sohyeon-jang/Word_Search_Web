{
  "nbformat": 4,
  "nbformat_minor": 0,
  "metadata": {
    "colab": {
      "provenance": []
    },
    "kernelspec": {
      "name": "python3",
      "display_name": "Python 3"
    },
    "language_info": {
      "name": "python"
    }
  },
  "cells": [
    {
      "cell_type": "code",
      "source": [
        "! pip3 install requests-html"
      ],
      "metadata": {
        "id": "mSLU4RjGWlfI",
        "colab": {
          "base_uri": "https://localhost:8080/"
        },
        "outputId": "0e0c8167-8228-4bf9-e948-7f35f31eaae6"
      },
      "execution_count": null,
      "outputs": [
        {
          "output_type": "stream",
          "name": "stdout",
          "text": [
            "Looking in indexes: https://pypi.org/simple, https://us-python.pkg.dev/colab-wheels/public/simple/\n",
            "Collecting requests-html\n",
            "  Downloading requests_html-0.10.0-py3-none-any.whl (13 kB)\n",
            "Requirement already satisfied: bs4 in /usr/local/lib/python3.8/dist-packages (from requests-html) (0.0.1)\n",
            "Requirement already satisfied: requests in /usr/local/lib/python3.8/dist-packages (from requests-html) (2.23.0)\n",
            "Collecting pyquery\n",
            "  Downloading pyquery-1.4.3-py3-none-any.whl (22 kB)\n",
            "Collecting pyppeteer>=0.0.14\n",
            "  Downloading pyppeteer-1.0.2-py3-none-any.whl (83 kB)\n",
            "\u001b[K     |████████████████████████████████| 83 kB 970 kB/s \n",
            "\u001b[?25hCollecting parse\n",
            "  Downloading parse-1.19.0.tar.gz (30 kB)\n",
            "Collecting fake-useragent\n",
            "  Downloading fake_useragent-1.1.1-py3-none-any.whl (50 kB)\n",
            "\u001b[K     |████████████████████████████████| 50 kB 3.8 MB/s \n",
            "\u001b[?25hCollecting w3lib\n",
            "  Downloading w3lib-2.1.1-py3-none-any.whl (21 kB)\n",
            "Collecting websockets<11.0,>=10.0\n",
            "  Downloading websockets-10.4-cp38-cp38-manylinux_2_5_x86_64.manylinux1_x86_64.manylinux_2_17_x86_64.manylinux2014_x86_64.whl (106 kB)\n",
            "\u001b[K     |████████████████████████████████| 106 kB 33.2 MB/s \n",
            "\u001b[?25hRequirement already satisfied: certifi>=2021 in /usr/local/lib/python3.8/dist-packages (from pyppeteer>=0.0.14->requests-html) (2022.9.24)\n",
            "Requirement already satisfied: tqdm<5.0.0,>=4.42.1 in /usr/local/lib/python3.8/dist-packages (from pyppeteer>=0.0.14->requests-html) (4.64.1)\n",
            "Requirement already satisfied: importlib-metadata>=1.4 in /usr/local/lib/python3.8/dist-packages (from pyppeteer>=0.0.14->requests-html) (4.13.0)\n",
            "Collecting pyee<9.0.0,>=8.1.0\n",
            "  Downloading pyee-8.2.2-py2.py3-none-any.whl (12 kB)\n",
            "Requirement already satisfied: appdirs<2.0.0,>=1.4.3 in /usr/local/lib/python3.8/dist-packages (from pyppeteer>=0.0.14->requests-html) (1.4.4)\n",
            "Collecting urllib3<2.0.0,>=1.25.8\n",
            "  Downloading urllib3-1.26.13-py2.py3-none-any.whl (140 kB)\n",
            "\u001b[K     |████████████████████████████████| 140 kB 53.6 MB/s \n",
            "\u001b[?25hRequirement already satisfied: zipp>=0.5 in /usr/local/lib/python3.8/dist-packages (from importlib-metadata>=1.4->pyppeteer>=0.0.14->requests-html) (3.11.0)\n",
            "Requirement already satisfied: beautifulsoup4 in /usr/local/lib/python3.8/dist-packages (from bs4->requests-html) (4.6.3)\n",
            "Requirement already satisfied: importlib-resources>=5.0 in /usr/local/lib/python3.8/dist-packages (from fake-useragent->requests-html) (5.10.0)\n",
            "Requirement already satisfied: lxml>=2.1 in /usr/local/lib/python3.8/dist-packages (from pyquery->requests-html) (4.9.1)\n",
            "Collecting cssselect>0.7.9\n",
            "  Downloading cssselect-1.2.0-py2.py3-none-any.whl (18 kB)\n",
            "Collecting urllib3<2.0.0,>=1.25.8\n",
            "  Downloading urllib3-1.25.11-py2.py3-none-any.whl (127 kB)\n",
            "\u001b[K     |████████████████████████████████| 127 kB 63.5 MB/s \n",
            "\u001b[?25hRequirement already satisfied: idna<3,>=2.5 in /usr/local/lib/python3.8/dist-packages (from requests->requests-html) (2.10)\n",
            "Requirement already satisfied: chardet<4,>=3.0.2 in /usr/local/lib/python3.8/dist-packages (from requests->requests-html) (3.0.4)\n",
            "Building wheels for collected packages: parse\n",
            "  Building wheel for parse (setup.py) ... \u001b[?25l\u001b[?25hdone\n",
            "  Created wheel for parse: filename=parse-1.19.0-py3-none-any.whl size=24591 sha256=d766c9954aabff991752f1c2c6bef22c5d120a0398d44a47b13a523425f3659c\n",
            "  Stored in directory: /root/.cache/pip/wheels/e5/33/1f/68392720485b3ecf125a69e700baaab7624616deedea2fa6e2\n",
            "Successfully built parse\n",
            "Installing collected packages: websockets, urllib3, pyee, cssselect, w3lib, pyquery, pyppeteer, parse, fake-useragent, requests-html\n",
            "  Attempting uninstall: urllib3\n",
            "    Found existing installation: urllib3 1.24.3\n",
            "    Uninstalling urllib3-1.24.3:\n",
            "      Successfully uninstalled urllib3-1.24.3\n",
            "Successfully installed cssselect-1.2.0 fake-useragent-1.1.1 parse-1.19.0 pyee-8.2.2 pyppeteer-1.0.2 pyquery-1.4.3 requests-html-0.10.0 urllib3-1.25.11 w3lib-2.1.1 websockets-10.4\n"
          ]
        }
      ]
    },
    {
      "cell_type": "code",
      "execution_count": null,
      "metadata": {
        "colab": {
          "base_uri": "https://localhost:8080/"
        },
        "id": "iBCyoBlrWcJS",
        "outputId": "7aa15c36-9f7c-4c74-f871-cb8e286b19d2"
      },
      "outputs": [
        {
          "output_type": "stream",
          "name": "stdout",
          "text": [
            "{'두산백과 두피디아': [{'name': 'API [application programming interface]',\n",
            "                'url': 'https://terms.naver.com/entry.naver?docId=1179553&cid=40942&categoryId=32837'},\n",
            "               {'name': '인공지능 [artificial intelligence, 人工知能]',\n",
            "                'url': 'https://terms.naver.com/entry.naver?docId=1136027&cid=40942&categoryId=32845'},\n",
            "               {'name': '네이버 [naver]',\n",
            "                'url': 'https://terms.naver.com/entry.naver?docId=1208838&cid=40942&categoryId=32854'},\n",
            "               {'name': '브레인스토밍 [brainstorming]',\n",
            "                'url': 'https://terms.naver.com/entry.naver?docId=1105381&cid=40942&categoryId=32828'},\n",
            "               {'name': '유튜브 [YouTube]',\n",
            "                'url': 'https://terms.naver.com/entry.naver?docId=3325376&cid=40942&categoryId=32837'},\n",
            "               {'name': 'B2B [Business to Business]',\n",
            "                'url': 'https://terms.naver.com/entry.naver?docId=1201414&cid=40942&categoryId=32854'},\n",
            "               {'name': '클라우드 컴퓨팅 [Cloud Computing]',\n",
            "                'url': 'https://terms.naver.com/entry.naver?docId=1350825&cid=40942&categoryId=32828'},\n",
            "               {'name': '카카오톡 [KakaoTalk]',\n",
            "                'url': 'https://terms.naver.com/entry.naver?docId=2851777&cid=40942&categoryId=32837'},\n",
            "               {'name': '에스에이피 [SAP]',\n",
            "                'url': 'https://terms.naver.com/entry.naver?docId=3351639&cid=40942&categoryId=32837'},\n",
            "               {'name': '아두이노 [Arduino]',\n",
            "                'url': 'https://terms.naver.com/entry.naver?docId=2835912&cid=40942&categoryId=32828'},\n",
            "               {'name': 'RAM [random access memory]',\n",
            "                'url': 'https://terms.naver.com/entry.naver?docId=1087343&cid=40942&categoryId=32832'},\n",
            "               {'name': '모듈 [module]',\n",
            "                'url': 'https://terms.naver.com/entry.naver?docId=2835919&cid=40942&categoryId=32830'},\n",
            "               {'name': '셧다운제 [shutdown-]',\n",
            "                'url': 'https://terms.naver.com/entry.naver?docId=1381182&cid=40942&categoryId=32854'},\n",
            "               {'name': 'RPM [revolution per minute]',\n",
            "                'url': 'https://terms.naver.com/entry.naver?docId=1225557&cid=40942&categoryId=32832'},\n",
            "               {'name': 'SQL [structured query language]',\n",
            "                'url': 'https://terms.naver.com/entry.naver?docId=1180957&cid=40942&categoryId=32838'}]}\n"
          ]
        }
      ],
      "source": [
        "# coding: utf-8\n",
        "from requests_html import HTMLSession\n",
        "from pprint import pprint\n",
        "\n",
        "def get_concept_list_per_page():\n",
        "    result = {}\n",
        "    session = HTMLSession()\n",
        "    for i in range(1, 2):     # 우선 두산백과 1페이지, 2페이지 출력\n",
        "        url = f'https://terms.naver.com/list.naver?cid=40942&categoryId=32827&page={i}'\n",
        "        r = session.get(url)    \n",
        "\n",
        "        base = r.html.find('div.info_area')\n",
        "        for d in base:\n",
        "            title = d.find('span.info.book')[0].text\n",
        "            if not title in result:\n",
        "                result[title] = []\n",
        "            \n",
        "            concept = {}\n",
        "            concept['name'] = d.find('strong.title > a')[0].text\n",
        "            concept['url'] = list(d.find('div.subject')[0].absolute_links)[0]\n",
        "\n",
        "            result[title].append(concept)\n",
        "    return result\n",
        "\n",
        "\n",
        "if __name__ == '__main__':\n",
        "    concept_list = get_concept_list_per_page()\n",
        "\n",
        "    pprint(concept_list)"
      ]
    },
    {
      "cell_type": "code",
      "source": [
        "print(list(concept_list.keys())[0])"
      ],
      "metadata": {
        "colab": {
          "base_uri": "https://localhost:8080/"
        },
        "id": "EDJ__UmVG2TK",
        "outputId": "24297bda-be2d-4b51-b02b-c1810bf68b2c"
      },
      "execution_count": null,
      "outputs": [
        {
          "output_type": "stream",
          "name": "stdout",
          "text": [
            "두산백과 두피디아\n"
          ]
        }
      ]
    },
    {
      "cell_type": "code",
      "source": [
        "data = list(concept_list.values())[0]\n",
        "print(data)"
      ],
      "metadata": {
        "colab": {
          "base_uri": "https://localhost:8080/"
        },
        "id": "tibshs86HITt",
        "outputId": "2c127af4-0ec3-4535-9126-dab673305ebd"
      },
      "execution_count": null,
      "outputs": [
        {
          "output_type": "stream",
          "name": "stdout",
          "text": [
            "[{'name': 'API [application programming interface]', 'url': 'https://terms.naver.com/entry.naver?docId=1179553&cid=40942&categoryId=32837'}, {'name': '인공지능 [artificial intelligence, 人工知能]', 'url': 'https://terms.naver.com/entry.naver?docId=1136027&cid=40942&categoryId=32845'}, {'name': '네이버 [naver]', 'url': 'https://terms.naver.com/entry.naver?docId=1208838&cid=40942&categoryId=32854'}, {'name': '브레인스토밍 [brainstorming]', 'url': 'https://terms.naver.com/entry.naver?docId=1105381&cid=40942&categoryId=32828'}, {'name': '유튜브 [YouTube]', 'url': 'https://terms.naver.com/entry.naver?docId=3325376&cid=40942&categoryId=32837'}, {'name': 'B2B [Business to Business]', 'url': 'https://terms.naver.com/entry.naver?docId=1201414&cid=40942&categoryId=32854'}, {'name': '클라우드 컴퓨팅 [Cloud Computing]', 'url': 'https://terms.naver.com/entry.naver?docId=1350825&cid=40942&categoryId=32828'}, {'name': '카카오톡 [KakaoTalk]', 'url': 'https://terms.naver.com/entry.naver?docId=2851777&cid=40942&categoryId=32837'}, {'name': '에스에이피 [SAP]', 'url': 'https://terms.naver.com/entry.naver?docId=3351639&cid=40942&categoryId=32837'}, {'name': '아두이노 [Arduino]', 'url': 'https://terms.naver.com/entry.naver?docId=2835912&cid=40942&categoryId=32828'}, {'name': 'RAM [random access memory]', 'url': 'https://terms.naver.com/entry.naver?docId=1087343&cid=40942&categoryId=32832'}, {'name': '모듈 [module]', 'url': 'https://terms.naver.com/entry.naver?docId=2835919&cid=40942&categoryId=32830'}, {'name': '셧다운제 [shutdown-]', 'url': 'https://terms.naver.com/entry.naver?docId=1381182&cid=40942&categoryId=32854'}, {'name': 'RPM [revolution per minute]', 'url': 'https://terms.naver.com/entry.naver?docId=1225557&cid=40942&categoryId=32832'}, {'name': 'SQL [structured query language]', 'url': 'https://terms.naver.com/entry.naver?docId=1180957&cid=40942&categoryId=32838'}]\n"
          ]
        }
      ]
    },
    {
      "cell_type": "code",
      "source": [
        "len(data)"
      ],
      "metadata": {
        "colab": {
          "base_uri": "https://localhost:8080/"
        },
        "id": "PRGvoBdoeP5z",
        "outputId": "7a1006f3-07a4-4c70-eb29-a9a367e95e9f"
      },
      "execution_count": null,
      "outputs": [
        {
          "output_type": "execute_result",
          "data": {
            "text/plain": [
              "15"
            ]
          },
          "metadata": {},
          "execution_count": 49
        }
      ]
    },
    {
      "cell_type": "markdown",
      "source": [
        "## 사전 단어 이름 출력"
      ],
      "metadata": {
        "id": "wc_r2HPHi2Z-"
      }
    },
    {
      "cell_type": "code",
      "source": [
        "i = 0\n",
        "while i < len(data):\n",
        "  dicname = data[i]['name']\n",
        "  i += 1\n",
        "  print(dicname)"
      ],
      "metadata": {
        "colab": {
          "base_uri": "https://localhost:8080/"
        },
        "id": "QW5Mb1BLHdaW",
        "outputId": "0d76ebec-c43f-47e8-8608-d4e823db5e9e"
      },
      "execution_count": null,
      "outputs": [
        {
          "output_type": "stream",
          "name": "stdout",
          "text": [
            "API [application programming interface]\n",
            "인공지능 [artificial intelligence, 人工知能]\n",
            "네이버 [naver]\n",
            "브레인스토밍 [brainstorming]\n",
            "유튜브 [YouTube]\n",
            "B2B [Business to Business]\n",
            "클라우드 컴퓨팅 [Cloud Computing]\n",
            "카카오톡 [KakaoTalk]\n",
            "에스에이피 [SAP]\n",
            "아두이노 [Arduino]\n",
            "RAM [random access memory]\n",
            "모듈 [module]\n",
            "셧다운제 [shutdown-]\n",
            "RPM [revolution per minute]\n",
            "SQL [structured query language]\n"
          ]
        }
      ]
    },
    {
      "cell_type": "markdown",
      "source": [
        "## 단어, url 출력"
      ],
      "metadata": {
        "id": "cTPEZPLqi-1a"
      }
    },
    {
      "cell_type": "code",
      "source": [
        "i = 0\n",
        "\n",
        "while i < len(data):\n",
        "  dicnames = data[i]['name']\n",
        "  urlnames = data[i]['url']\n",
        "  i += 1\n",
        "  print(dicnames)\n",
        "  print(urlnames)"
      ],
      "metadata": {
        "colab": {
          "base_uri": "https://localhost:8080/"
        },
        "id": "jGCO4BX3MDc6",
        "outputId": "1d5fd00a-69f0-4db7-8bf7-581c1e23e0b4"
      },
      "execution_count": null,
      "outputs": [
        {
          "output_type": "stream",
          "name": "stdout",
          "text": [
            "API [application programming interface]\n",
            "https://terms.naver.com/entry.naver?docId=1179553&cid=40942&categoryId=32837\n",
            "인공지능 [artificial intelligence, 人工知能]\n",
            "https://terms.naver.com/entry.naver?docId=1136027&cid=40942&categoryId=32845\n",
            "네이버 [naver]\n",
            "https://terms.naver.com/entry.naver?docId=1208838&cid=40942&categoryId=32854\n",
            "브레인스토밍 [brainstorming]\n",
            "https://terms.naver.com/entry.naver?docId=1105381&cid=40942&categoryId=32828\n",
            "유튜브 [YouTube]\n",
            "https://terms.naver.com/entry.naver?docId=3325376&cid=40942&categoryId=32837\n",
            "B2B [Business to Business]\n",
            "https://terms.naver.com/entry.naver?docId=1201414&cid=40942&categoryId=32854\n",
            "클라우드 컴퓨팅 [Cloud Computing]\n",
            "https://terms.naver.com/entry.naver?docId=1350825&cid=40942&categoryId=32828\n",
            "카카오톡 [KakaoTalk]\n",
            "https://terms.naver.com/entry.naver?docId=2851777&cid=40942&categoryId=32837\n",
            "에스에이피 [SAP]\n",
            "https://terms.naver.com/entry.naver?docId=3351639&cid=40942&categoryId=32837\n",
            "아두이노 [Arduino]\n",
            "https://terms.naver.com/entry.naver?docId=2835912&cid=40942&categoryId=32828\n",
            "RAM [random access memory]\n",
            "https://terms.naver.com/entry.naver?docId=1087343&cid=40942&categoryId=32832\n",
            "모듈 [module]\n",
            "https://terms.naver.com/entry.naver?docId=2835919&cid=40942&categoryId=32830\n",
            "셧다운제 [shutdown-]\n",
            "https://terms.naver.com/entry.naver?docId=1381182&cid=40942&categoryId=32854\n",
            "RPM [revolution per minute]\n",
            "https://terms.naver.com/entry.naver?docId=1225557&cid=40942&categoryId=32832\n",
            "SQL [structured query language]\n",
            "https://terms.naver.com/entry.naver?docId=1180957&cid=40942&categoryId=32838\n"
          ]
        }
      ]
    },
    {
      "cell_type": "markdown",
      "source": [
        "## 사전 단어 설명 출력"
      ],
      "metadata": {
        "id": "fwUff2JijyVt"
      }
    },
    {
      "cell_type": "code",
      "source": [
        "import requests\n",
        "from bs4 import BeautifulSoup\n",
        "\n",
        "i = 0\n",
        "\n",
        "while i < len(data):\n",
        "\n",
        "  urlnames = data[i]['url']\n",
        "\n",
        "  request = requests.get(urlnames)\n",
        "  soup = BeautifulSoup(request.text, \"html.parser\")\n",
        "\n",
        "  # diccontent = soup.find(\"dl\").text\n",
        "  diccontent = soup.find(\"dl\", class_=\"summary_area\").text\n",
        "  content = diccontent.replace('\\t', \"\").replace(\"\\n\", \"\").replace(\"요약\", \"\")\n",
        "  i += 1\n",
        "  new_content = \"'\" + content + \"'\"\n",
        "\n",
        "  print(new_content)"
      ],
      "metadata": {
        "colab": {
          "base_uri": "https://localhost:8080/"
        },
        "id": "bIJZMfy__TY8",
        "outputId": "f3cf42ea-5bcd-4112-d56d-e7f6ab896e25"
      },
      "execution_count": null,
      "outputs": [
        {
          "output_type": "stream",
          "name": "stdout",
          "text": [
            "'운영체제와 응용프로그램 사이의 통신에 사용되는 언어나 메시지 형식을 말한다.'\n",
            "'인간의 인지·추론·판단 등의 능력을 컴퓨터로 구현하기 위한 기술 혹은 그 연구 분야.'\n",
            "'NAVER(주)에서 제공하는 인터넷 포털사이트로, 1999년 6월에 시작되었다. 일반적인 통합검색 서비스는 물론이고, 사전, 지도, 동영상, 이미지 검색 등 다양한 서비스를 제공하고 있다.'\n",
            "'일정한 주제에 대해 구성원들의 창의적이고 자유분방한 발상을 통해 아이디어를 도출하고 문제를 해결하기 위한 기법.'\n",
            "'구글이 운영하는 동영상 공유 서비스로, 사용자가 동영상을 업로드하고 시청하며 공유할 수 있도록 한다. 당신(You)과 브라운관(Tube, 텔레비전)이라는 단어의 합성어이다.'\n",
            "'기업과 기업 사이에 이루어지는 전자상거래를 일컫는 경제용어.'\n",
            "'서버, 스토리지 등의 IT 리소스를 인터넷을 통해 실시간 제공하고 사용한 만큼 비용을 지불하는 방식의 컴퓨팅.'\n",
            "'스마트폰용 무료 통화 및 메신저 응용 프로그램으로, 2010년 3월에 출시되었으며, 2015년 기준 iOS, 안드로이드, 블랙베리, 윈도우폰 운영체제 및 PC(윈도우, MAC) 버전을 지원한다.'\n",
            "'재무, 영업, 인사 관리, 상거래, 자산 관리 등 다양한 업무 영역별 비즈니스 솔루션을 제공하는 독일의 다국적 소프트웨어 기업.'\n",
            "'물리적인 세계를 감지하고 제어할 수 있는 인터랙티브 객체들과 디지털 장치를 만들기 위한 도구로, 간단한 마이크로컨트롤러(Microcontroller) 보드를 기반으로 한 오픈 소스 컴퓨팅 플랫폼과 소프트웨어 개발 환경을 말한다.'\n",
            "'RAM(Random Access Memory)은 기억된 정보를 읽어내기도 하고 다른 정보를 기억시킬 수도 있는 메모리로서, 컴퓨터의 주기억장치, 응용 프로그램의 일시적 로딩(loading), 데이터의 일시적 저장 등에 사용된다.'\n",
            "'소프트웨어나 하드웨어의 일부로, 큰 전체 시스템 및 체계 중 다른 구성 요소와 독립적인 하나의 구성 요소를 말한다.'\n",
            "'16세 미만의 청소년에게 심야시간의 인터넷 게임 제공을 제한하는 제도.'\n",
            "'회전하면서 일을 하는 장치가 1분동안 몇 번의 회전을 하는지 나타내는 단위이다. 컴퓨터의 하드디스크 속도를 나타내는 단위로 많이 쓰인다.'\n",
            "'데이터베이스를 사용할 때, 데이터베이스에 접근할 수 있는 데이터베이스 하부 언어를 말한다.'\n"
          ]
        }
      ]
    },
    {
      "cell_type": "markdown",
      "source": [
        "# 최종"
      ],
      "metadata": {
        "id": "SO0VMvhXRuan"
      }
    },
    {
      "cell_type": "code",
      "source": [
        "import requests\n",
        "from bs4 import BeautifulSoup\n",
        "\n",
        "i = 0\n",
        "j = 411\n",
        "\n",
        "while i < len(data):\n",
        "\n",
        "  dicnames = data[i]['name']\n",
        "  urlnames = data[i]['url']\n",
        "\n",
        "  request = requests.get(urlnames)\n",
        "  soup = BeautifulSoup(request.text, \"html.parser\")\n",
        "\n",
        "  # diccontent = soup.find(\"dl\").text\n",
        "  diccontent = soup.find(\"dl\", class_=\"summary_area\").text\n",
        "  content = diccontent.replace('\\t', \"\").replace(\"\\n\", \"\").replace(\"요약\", \"\")\n",
        "  i += 1\n",
        "\n",
        "  new_dicnames = \"'\" + dicnames + \"'\"\n",
        "  new_contents = \"'\" + content + \"'\"\n",
        "  new_urlnames = \"'\" + urlnames + \"'\"\n",
        "\n",
        "\n",
        "  print(\",(\",j,',', new_dicnames, \",\", new_contents, ',', \"'스포츠'\",',', \"'명사'\",',',  new_urlnames, ',', \"now()\",',', '0',',', \"now()\",',', 0, \")\")\n",
        "  j += 1"
      ],
      "metadata": {
        "colab": {
          "base_uri": "https://localhost:8080/"
        },
        "id": "2-PrSPN5RuIR",
        "outputId": "f9606868-1e35-485d-ad5b-c0ddea0fb11b"
      },
      "execution_count": null,
      "outputs": [
        {
          "output_type": "stream",
          "name": "stdout",
          "text": [
            ",( 411 , 'API [application programming interface]' , '운영체제와 응용프로그램 사이의 통신에 사용되는 언어나 메시지 형식을 말한다.' , '스포츠' , '명사' , 'https://terms.naver.com/entry.naver?docId=1179553&cid=40942&categoryId=32837' , now() , 0 , now() , 0 )\n",
            ",( 412 , '인공지능 [artificial intelligence, 人工知能]' , '인간의 인지·추론·판단 등의 능력을 컴퓨터로 구현하기 위한 기술 혹은 그 연구 분야.' , '스포츠' , '명사' , 'https://terms.naver.com/entry.naver?docId=1136027&cid=40942&categoryId=32845' , now() , 0 , now() , 0 )\n",
            ",( 413 , '네이버 [naver]' , 'NAVER(주)에서 제공하는 인터넷 포털사이트로, 1999년 6월에 시작되었다. 일반적인 통합검색 서비스는 물론이고, 사전, 지도, 동영상, 이미지 검색 등 다양한 서비스를 제공하고 있다.' , '스포츠' , '명사' , 'https://terms.naver.com/entry.naver?docId=1208838&cid=40942&categoryId=32854' , now() , 0 , now() , 0 )\n",
            ",( 414 , '브레인스토밍 [brainstorming]' , '일정한 주제에 대해 구성원들의 창의적이고 자유분방한 발상을 통해 아이디어를 도출하고 문제를 해결하기 위한 기법.' , '스포츠' , '명사' , 'https://terms.naver.com/entry.naver?docId=1105381&cid=40942&categoryId=32828' , now() , 0 , now() , 0 )\n",
            ",( 415 , '유튜브 [YouTube]' , '구글이 운영하는 동영상 공유 서비스로, 사용자가 동영상을 업로드하고 시청하며 공유할 수 있도록 한다. 당신(You)과 브라운관(Tube, 텔레비전)이라는 단어의 합성어이다.' , '스포츠' , '명사' , 'https://terms.naver.com/entry.naver?docId=3325376&cid=40942&categoryId=32837' , now() , 0 , now() , 0 )\n",
            ",( 416 , 'B2B [Business to Business]' , '기업과 기업 사이에 이루어지는 전자상거래를 일컫는 경제용어.' , '스포츠' , '명사' , 'https://terms.naver.com/entry.naver?docId=1201414&cid=40942&categoryId=32854' , now() , 0 , now() , 0 )\n",
            ",( 417 , '클라우드 컴퓨팅 [Cloud Computing]' , '서버, 스토리지 등의 IT 리소스를 인터넷을 통해 실시간 제공하고 사용한 만큼 비용을 지불하는 방식의 컴퓨팅.' , '스포츠' , '명사' , 'https://terms.naver.com/entry.naver?docId=1350825&cid=40942&categoryId=32828' , now() , 0 , now() , 0 )\n",
            ",( 418 , '카카오톡 [KakaoTalk]' , '스마트폰용 무료 통화 및 메신저 응용 프로그램으로, 2010년 3월에 출시되었으며, 2015년 기준 iOS, 안드로이드, 블랙베리, 윈도우폰 운영체제 및 PC(윈도우, MAC) 버전을 지원한다.' , '스포츠' , '명사' , 'https://terms.naver.com/entry.naver?docId=2851777&cid=40942&categoryId=32837' , now() , 0 , now() , 0 )\n",
            ",( 419 , '에스에이피 [SAP]' , '재무, 영업, 인사 관리, 상거래, 자산 관리 등 다양한 업무 영역별 비즈니스 솔루션을 제공하는 독일의 다국적 소프트웨어 기업.' , '스포츠' , '명사' , 'https://terms.naver.com/entry.naver?docId=3351639&cid=40942&categoryId=32837' , now() , 0 , now() , 0 )\n",
            ",( 420 , '아두이노 [Arduino]' , '물리적인 세계를 감지하고 제어할 수 있는 인터랙티브 객체들과 디지털 장치를 만들기 위한 도구로, 간단한 마이크로컨트롤러(Microcontroller) 보드를 기반으로 한 오픈 소스 컴퓨팅 플랫폼과 소프트웨어 개발 환경을 말한다.' , '스포츠' , '명사' , 'https://terms.naver.com/entry.naver?docId=2835912&cid=40942&categoryId=32828' , now() , 0 , now() , 0 )\n",
            ",( 421 , 'RAM [random access memory]' , 'RAM(Random Access Memory)은 기억된 정보를 읽어내기도 하고 다른 정보를 기억시킬 수도 있는 메모리로서, 컴퓨터의 주기억장치, 응용 프로그램의 일시적 로딩(loading), 데이터의 일시적 저장 등에 사용된다.' , '스포츠' , '명사' , 'https://terms.naver.com/entry.naver?docId=1087343&cid=40942&categoryId=32832' , now() , 0 , now() , 0 )\n",
            ",( 422 , '모듈 [module]' , '소프트웨어나 하드웨어의 일부로, 큰 전체 시스템 및 체계 중 다른 구성 요소와 독립적인 하나의 구성 요소를 말한다.' , '스포츠' , '명사' , 'https://terms.naver.com/entry.naver?docId=2835919&cid=40942&categoryId=32830' , now() , 0 , now() , 0 )\n",
            ",( 423 , '셧다운제 [shutdown-]' , '16세 미만의 청소년에게 심야시간의 인터넷 게임 제공을 제한하는 제도.' , '스포츠' , '명사' , 'https://terms.naver.com/entry.naver?docId=1381182&cid=40942&categoryId=32854' , now() , 0 , now() , 0 )\n",
            ",( 424 , 'RPM [revolution per minute]' , '회전하면서 일을 하는 장치가 1분동안 몇 번의 회전을 하는지 나타내는 단위이다. 컴퓨터의 하드디스크 속도를 나타내는 단위로 많이 쓰인다.' , '스포츠' , '명사' , 'https://terms.naver.com/entry.naver?docId=1225557&cid=40942&categoryId=32832' , now() , 0 , now() , 0 )\n",
            ",( 425 , 'SQL [structured query language]' , '데이터베이스를 사용할 때, 데이터베이스에 접근할 수 있는 데이터베이스 하부 언어를 말한다.' , '스포츠' , '명사' , 'https://terms.naver.com/entry.naver?docId=1180957&cid=40942&categoryId=32838' , now() , 0 , now() , 0 )\n"
          ]
        }
      ]
    },
    {
      "cell_type": "markdown",
      "source": [
        "INSERT\n",
        "INTO word(id, word, description, category, grammar, dic_link, created_at, created_by, updated_at, updated_by)\n",
        "\n",
        "VALUES (101, 'ex', 'ex1', '카테고리', '품사', 'https://', now(), 0, now(), 0);"
      ],
      "metadata": {
        "id": "ir7t3Eu4R_hN"
      }
    }
  ]
}